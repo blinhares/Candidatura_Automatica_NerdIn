{
 "cells": [
  {
   "cell_type": "code",
   "execution_count": 1,
   "metadata": {},
   "outputs": [],
   "source": [
    "from selenium import webdriver\n",
    "from selenium.webdriver.common.by import By\n",
    "from time import sleep\n",
    "from logging import getLogger\n",
    "\n",
    "log = getLogger(__name__)\n",
    "log.debug('iniciando...')\n",
    "\n",
    "drive = webdriver.Chrome()\n",
    "\n",
    "basic_data = {\n",
    "    \"NomeCandidato\": \"Bruno\",\n",
    "    \"FuncaoCandidato\": \"Dev Full\",\n",
    "    \"TelefoneCandidato\": \"85999999999\",\n",
    "    \"EmailCandidato\": \"seuemail@gmail.com\",\n",
    "    \"CidadeCandidato\": \"Fortaleza/CE\",\n",
    "    \"DisponibilidadeInicio\": \"1\",\n",
    "    \"ValorPretensaoSalarial\": \"0000,00\",\n",
    "    \"ValorPretensaoSalarialPJ\": \"00,00\",\n",
    "    \"PossuiPJ\": \"N\",\n",
    "    \"NivelIngles\": \"In\",\n",
    "    \"NomeCurriculo\":\"/path/to/file/cv.pdf\"\n",
    "}\n"
   ]
  },
  {
   "cell_type": "code",
   "execution_count": 2,
   "metadata": {},
   "outputs": [],
   "source": [
    "url = \"https://nerdin.com.br/vagas?CodigoCidade=0&CodigoVaga=&PalavraChave=python&CodigoEmpresa=0\""
   ]
  },
  {
   "cell_type": "code",
   "execution_count": 3,
   "metadata": {},
   "outputs": [],
   "source": [
    "def got_to_url(url:str):\n",
    "    drive.get(\n",
    "    url\n",
    "    )\n",
    "    sleep(1)#9"
   ]
  },
  {
   "cell_type": "code",
   "execution_count": 4,
   "metadata": {},
   "outputs": [],
   "source": [
    "def send_data(nome_do_campo: str, valor: str):\n",
    "    try:\n",
    "        drive.find_element(By.NAME, nome_do_campo).send_keys(valor)\n",
    "    except:\n",
    "        pass\n",
    "    sleep(0.2)"
   ]
  },
  {
   "cell_type": "code",
   "execution_count": 5,
   "metadata": {},
   "outputs": [],
   "source": [
    "def show_all_content_page():\n",
    "    \"\"\"Exibe todas as abas disponíveis expandindo a paginação do site \"\"\"\n",
    "    while True:\n",
    "        try:\n",
    "            exibir_mais = drive.find_element(\n",
    "                By.XPATH, '//*[@id=\"divVagaProximas0\"]/div/img'\n",
    "            )\n",
    "            exibir_mais.click()\n",
    "        except:\n",
    "            print(\"Todos os Itens estão sendo exibidos\")\n",
    "            break"
   ]
  },
  {
   "cell_type": "code",
   "execution_count": 6,
   "metadata": {},
   "outputs": [],
   "source": [
    "def listar_urls():\n",
    "    \"\"\"Pega todos os links das Vagas e Transforma em URLs\"\"\"\n",
    "    vagas = drive.find_elements(\n",
    "        By.XPATH, \n",
    "        \"//*/div[2]/a[4]\")#pegar elementos das vagas\n",
    "    urls = [\n",
    "        str(vaga.get_attribute(\"href\")) for vaga in vagas\n",
    "    ]\n",
    "    return urls"
   ]
  },
  {
   "cell_type": "code",
   "execution_count": 12,
   "metadata": {},
   "outputs": [],
   "source": [
    "def candidatar_em_url(url:str):\n",
    "    \"\"\"Enviar candidatura a um URL especifica\"\"\"\n",
    "    drive.get( url)\n",
    "    sleep(2)\n",
    "    #quero me candidatar\n",
    "    try:\n",
    "        drive.find_element(\n",
    "        By.XPATH,'//*[@id=\"divListaVagas\"]/div[2]/button'\n",
    "        ).click()\n",
    "    except:\n",
    "        print(f'Não foi possivel se candidatar nesse link!')\n",
    "        return\n",
    "    sleep(1)\n",
    "    #enviar dados básicos\n",
    "    for chave in basic_data:\n",
    "        send_data(chave, basic_data[chave])\n",
    "\n",
    "    log.debug('Enviando formulário...')\n",
    "    drive.find_element(\n",
    "        By.ID,'btnSolicitar2'\n",
    "        ).click()\n",
    "    \n",
    "    avisos = drive.find_elements(\n",
    "        By.XPATH,\n",
    "        \"//*[contains(text(), 'Falta')]\")\n",
    "    if any([ 'falta' in aviso.text.lower() for aviso in avisos]):\n",
    "        print('Insira os dados faltantes!')\n",
    "        input()\n",
    "\n",
    "\n",
    "    sleep(4)    "
   ]
  },
  {
   "cell_type": "code",
   "execution_count": 8,
   "metadata": {},
   "outputs": [
    {
     "name": "stdout",
     "output_type": "stream",
     "text": [
      "Todos os Itens estão sendo exibidos\n",
      "Serão realizados 74 tentativas de cadastro!\n"
     ]
    }
   ],
   "source": [
    "got_to_url(url)\n",
    "show_all_content_page()\n",
    "urls = listar_urls()\n",
    "print(f'Serão realizados {len(urls)} tentativas de cadastro!')\n",
    "for i, url in enumerate(urls):\n",
    "    print(f'{i} - {url}'.center(50,'-'))\n",
    "    candidatar_em_url(url)\n",
    "\n",
    "drive.quit()\n"
   ]
  }
 ],
 "metadata": {
  "kernelspec": {
   "display_name": ".venv",
   "language": "python",
   "name": "python3"
  },
  "language_info": {
   "codemirror_mode": {
    "name": "ipython",
    "version": 3
   },
   "file_extension": ".py",
   "mimetype": "text/x-python",
   "name": "python",
   "nbconvert_exporter": "python",
   "pygments_lexer": "ipython3",
   "version": "3.10.12"
  }
 },
 "nbformat": 4,
 "nbformat_minor": 2
}
